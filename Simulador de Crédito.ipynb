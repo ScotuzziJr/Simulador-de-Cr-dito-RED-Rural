{
 "cells": [
  {
   "cell_type": "markdown",
   "id": "8d75438e-40b7-4aa0-8fad-4d9d4441ed1e",
   "metadata": {},
   "source": [
    "# **Simulador de Crédito Reduto Capital**\n",
    "\n",
    "Proposta do novo simulador, seguindo o *Sistema Price* já adotado dentro da operação "
   ]
  },
  {
   "cell_type": "code",
   "execution_count": 1,
   "id": "a3cec384-9597-456f-abcc-a4fbd05b8c56",
   "metadata": {},
   "outputs": [],
   "source": [
    "import numpy_financial as npf\n",
    "import pandas as pd\n",
    "import matplotlib"
   ]
  },
  {
   "cell_type": "code",
   "execution_count": 13,
   "id": "bcff6123-5dfe-4d52-8c04-59882b36093c",
   "metadata": {},
   "outputs": [
    {
     "data": {
      "text/html": [
       "<div>\n",
       "<style scoped>\n",
       "    .dataframe tbody tr th:only-of-type {\n",
       "        vertical-align: middle;\n",
       "    }\n",
       "\n",
       "    .dataframe tbody tr th {\n",
       "        vertical-align: top;\n",
       "    }\n",
       "\n",
       "    .dataframe thead th {\n",
       "        text-align: right;\n",
       "    }\n",
       "</style>\n",
       "<table border=\"1\" class=\"dataframe\">\n",
       "  <thead>\n",
       "    <tr style=\"text-align: right;\">\n",
       "      <th></th>\n",
       "      <th>Parcelas</th>\n",
       "      <th>Valor Parcela</th>\n",
       "      <th>Total Pago</th>\n",
       "    </tr>\n",
       "  </thead>\n",
       "  <tbody>\n",
       "    <tr>\n",
       "      <th>0</th>\n",
       "      <td>1</td>\n",
       "      <td>115969.34</td>\n",
       "      <td>115969.34</td>\n",
       "    </tr>\n",
       "    <tr>\n",
       "      <th>1</th>\n",
       "      <td>2</td>\n",
       "      <td>62272.21</td>\n",
       "      <td>124544.42</td>\n",
       "    </tr>\n",
       "    <tr>\n",
       "      <th>2</th>\n",
       "      <td>3</td>\n",
       "      <td>44503.41</td>\n",
       "      <td>133510.24</td>\n",
       "    </tr>\n",
       "    <tr>\n",
       "      <th>3</th>\n",
       "      <td>4</td>\n",
       "      <td>35715.64</td>\n",
       "      <td>142862.55</td>\n",
       "    </tr>\n",
       "    <tr>\n",
       "      <th>4</th>\n",
       "      <td>5</td>\n",
       "      <td>30519.10</td>\n",
       "      <td>152595.50</td>\n",
       "    </tr>\n",
       "    <tr>\n",
       "      <th>5</th>\n",
       "      <td>6</td>\n",
       "      <td>27116.95</td>\n",
       "      <td>162701.70</td>\n",
       "    </tr>\n",
       "  </tbody>\n",
       "</table>\n",
       "</div>"
      ],
      "text/plain": [
       "   Parcelas  Valor Parcela  Total Pago\n",
       "0         1      115969.34   115969.34\n",
       "1         2       62272.21   124544.42\n",
       "2         3       44503.41   133510.24\n",
       "3         4       35715.64   142862.55\n",
       "4         5       30519.10   152595.50\n",
       "5         6       27116.95   162701.70"
      ]
     },
     "execution_count": 13,
     "metadata": {},
     "output_type": "execute_result"
    }
   ],
   "source": [
    "# Dados iniciais\n",
    "VP = 100_000\n",
    "taxa_mensal = 0.025\n",
    "\n",
    "# Conversão de taxa mensal para equivalentes\n",
    "taxa_trimestral = (1 + taxa_mensal) ** 3 - 1\n",
    "taxa_semestral = (1 + taxa_mensal) ** 6 - 1\n",
    "\n",
    "# Função para gerar tabela de parcelas\n",
    "def gerar_tabela(VP, taxa, max_parcelas):\n",
    "    dados = []\n",
    "    for n in range(1, max_parcelas + 1):\n",
    "        pmt = npf.pmt(taxa, n, -VP)\n",
    "        total_pago = pmt * n\n",
    "        dados.append({\n",
    "            \"Parcelas\": n,\n",
    "            \"Valor Parcela\": round(pmt, 2),\n",
    "            \"Total Pago\": round(total_pago, 2)\n",
    "        })\n",
    "    return pd.DataFrame(dados)\n",
    "\n",
    "# Gerar tabelas\n",
    "tabela_mensal = gerar_tabela(VP, taxa_mensal, 36)\n",
    "tabela_trimestral = gerar_tabela(VP, taxa_trimestral, 12)\n",
    "tabela_semestral = gerar_tabela(VP, taxa_semestral, 6)\n",
    "\n",
    "# Mostrar resultados\n",
    "tabela_semestral"
   ]
  }
 ],
 "metadata": {
  "kernelspec": {
   "display_name": "Python 3 (ipykernel)",
   "language": "python",
   "name": "python3"
  },
  "language_info": {
   "codemirror_mode": {
    "name": "ipython",
    "version": 3
   },
   "file_extension": ".py",
   "mimetype": "text/x-python",
   "name": "python",
   "nbconvert_exporter": "python",
   "pygments_lexer": "ipython3",
   "version": "3.13.5"
  }
 },
 "nbformat": 4,
 "nbformat_minor": 5
}
